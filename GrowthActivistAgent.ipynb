{
  "nbformat": 4,
  "nbformat_minor": 0,
  "metadata": {
    "colab": {
      "provenance": [],
      "authorship_tag": "ABX9TyPupCbJp3sOdLlrhhyfff+D",
      "include_colab_link": true
    },
    "kernelspec": {
      "name": "python3",
      "display_name": "Python 3"
    },
    "language_info": {
      "name": "python"
    }
  },
  "cells": [
    {
      "cell_type": "markdown",
      "metadata": {
        "id": "view-in-github",
        "colab_type": "text"
      },
      "source": [
        "<a href=\"https://colab.research.google.com/github/anweshaban21/finoloai-ml/blob/main/GrowthActivistAgent.ipynb\" target=\"_parent\"><img src=\"https://colab.research.google.com/assets/colab-badge.svg\" alt=\"Open In Colab\"/></a>"
      ]
    },
    {
      "cell_type": "code",
      "source": [],
      "metadata": {
        "id": "SWuM9Ia7v4Fz"
      },
      "execution_count": null,
      "outputs": []
    },
    {
      "cell_type": "code",
      "source": [
        "\n",
        "stocks_in_sector = ['AAPL', 'MSFT', 'GOOGL', 'AMZN', 'META', 'NVDA'] #same sector companies\n",
        "\n",
        "\n",
        "pe_ratios = []\n",
        "\n",
        "for symbol in stocks_in_sector:\n",
        "    ticker = yf.Ticker(symbol)\n",
        "    try:\n",
        "        pe = ticker.info.get('trailingPE')  # trailing PE\n",
        "        if pe is not None:\n",
        "            pe_ratios.append(pe)\n",
        "            print(f\"{symbol}: PE = {pe}\")\n",
        "        else:\n",
        "            print(f\"{symbol}: No PE data\")\n",
        "    except Exception as e:\n",
        "        print(f\"Error fetching {symbol}: {e}\")\n",
        "\n",
        "# STEP 3: Calculate Industry/Sector PE\n",
        "if pe_ratios:\n",
        "    industry_pe = sum(pe_ratios) / len(pe_ratios)\n",
        "    print(f\"\\nEstimated Industry PE: {industry_pe:.2f}\")\n",
        "else:\n",
        "    print(\"No valid PE data found!\")\n",
        "\n",
        "#stock_data.industry_pe = industry_pe"
      ],
      "metadata": {
        "colab": {
          "base_uri": "https://localhost:8080/"
        },
        "id": "a_V_MV-ouWZq",
        "outputId": "b108119b-3ce6-4847-c542-45269d46310e"
      },
      "execution_count": null,
      "outputs": [
        {
          "output_type": "stream",
          "name": "stdout",
          "text": [
            "AAPL: PE = 31.266665\n",
            "MSFT: PE = 29.683615\n",
            "GOOGL: PE = 18.800995\n",
            "AMZN: PE = 31.269928\n",
            "META: PE = 21.008797\n",
            "NVDA: PE = 34.52041\n",
            "\n",
            "Estimated Industry PE: 27.76\n"
          ]
        }
      ]
    },
    {
      "cell_type": "code",
      "execution_count": null,
      "metadata": {
        "id": "m4A6sVdzftwf"
      },
      "outputs": [],
      "source": [
        "import yfinance as yf\n",
        "def load_stock_data(ticker):\n",
        "    stock = yf.Ticker(ticker)\n",
        "    info = stock.info\n",
        "\n",
        "    stock_data = {\n",
        "        'pe_ratio': info.get('trailingPE', None),\n",
        "        'industry_pe': industry_pe,  # We will manually set or estimate it\n",
        "        'debt_to_equity': info.get('debtToEquity', None),\n",
        "        'roe': info.get('returnOnEquity', None),\n",
        "        'operating_margin': info.get('operatingMargins', None),\n",
        "        'insider_ownership': info.get('heldPercentInsiders', 0) * 100,  # Convert to percentage\n",
        "        'management_change_recent': False,  # Complex to automate (optional for now)\n",
        "    }\n",
        "\n",
        "    return stock_data"
      ]
    },
    {
      "cell_type": "code",
      "source": [
        "class ActivistGrowthAgent:\n",
        "    def __init__(self, stock_data):\n",
        "        self.data = stock_data\n",
        "\n",
        "    def evaluate(self):\n",
        "        score = 0\n",
        "\n",
        "        # P/E relative to industry (Assume industry average is 20 for now)\n",
        "        #industry_pe = self.data.get('industry_pe') or 20\n",
        "\n",
        "        if self.data['pe_ratio'] is not None and self.data['pe_ratio'] < industry_pe:\n",
        "            score += 2\n",
        "\n",
        "        # Debt manageable\n",
        "        if self.data['debt_to_equity'] is not None and self.data['debt_to_equity'] < 200:\n",
        "            score += 2\n",
        "\n",
        "        # Good ROE\n",
        "        if self.data['roe'] is not None and self.data['roe'] > 0.10:\n",
        "            score += 1\n",
        "\n",
        "        # Good Operating Margin\n",
        "        if self.data['operating_margin'] is not None and self.data['operating_margin'] > 0.15:\n",
        "            score += 1\n",
        "\n",
        "        # Insider Ownership > 5%\n",
        "        if self.data['insider_ownership'] > 5:\n",
        "            score += 1\n",
        "\n",
        "        # Management Change (optional, for now False)\n",
        "        if self.data['management_change_recent']:\n",
        "            score += 2\n",
        "\n",
        "        if score >= 7:\n",
        "            return \"High Potential Growth\"\n",
        "        elif 4 <= score < 7:\n",
        "            return \"Moderate Potential\"\n",
        "        else:\n",
        "            return \"Low Potential\"\n",
        "\n",
        "# Step 3: Test it!\n",
        "ticker = \"AMZN\"  # Try Apple for example\n",
        "stock_data = load_stock_data(ticker)\n",
        "\n",
        "# (Optional) Add missing manual data\n",
        "stock_data['industry_pe'] = industry_pe  # You can lookup or use approx values\n",
        "stock_data['management_change_recent'] = False  # You can make a smarter module later\n",
        "\n",
        "agent = ActivistGrowthAgent(stock_data)\n",
        "prediction = agent.evaluate()\n",
        "\n",
        "print(f\"Prediction for {ticker}: {prediction}\")"
      ],
      "metadata": {
        "colab": {
          "base_uri": "https://localhost:8080/"
        },
        "id": "0O_Y4JLagmaj",
        "outputId": "35b0caae-eb17-48c6-b7d0-4fcd08760b9a"
      },
      "execution_count": null,
      "outputs": [
        {
          "output_type": "stream",
          "name": "stdout",
          "text": [
            "Prediction for AMZN: Moderate Potential\n"
          ]
        }
      ]
    }
  ]
}